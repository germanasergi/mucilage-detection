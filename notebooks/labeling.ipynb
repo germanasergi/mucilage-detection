{
 "cells": [
  {
   "cell_type": "markdown",
   "id": "d2e78b68",
   "metadata": {},
   "source": [
    "# Manual labeling of patches"
   ]
  },
  {
   "cell_type": "code",
   "execution_count": null,
   "id": "c785f371",
   "metadata": {},
   "outputs": [],
   "source": [
    "import numpy as np\n",
    "import matplotlib.pyplot as plt\n",
    "import os\n",
    "import csv\n",
    "import pandas as pd"
   ]
  },
  {
   "cell_type": "code",
   "execution_count": null,
   "id": "acc93700",
   "metadata": {},
   "outputs": [],
   "source": [
    "# Load the patches (as array)\n",
    "\n",
    "patches = np.load('/home/ubuntu/mucilage_pipeline/patches_tqr.npy')\n",
    "N = patches.shape[0]"
   ]
  },
  {
   "cell_type": "markdown",
   "id": "78fe1423",
   "metadata": {},
   "source": [
    "## Functions"
   ]
  },
  {
   "cell_type": "code",
   "execution_count": null,
   "id": "7812b2e0",
   "metadata": {},
   "outputs": [],
   "source": [
    "def show_rgb(patch):\n",
    "    \"\"\"Visualize patch with stretch in RGB (B4,B3,B2).\"\"\"\n",
    "    rgb = patch[:, :, [2,1,0]]\n",
    "    p2, p98 = np.nanpercentile(rgb, (2, 98))\n",
    "    rgb = np.clip((rgb - p2) / (p98 - p2 + 1e-6), 0, 1)\n",
    "    plt.imshow(rgb)\n",
    "    plt.axis(\"off\")\n",
    "\n",
    "def show_amei(patch, eps=1e-6, ax=None):\n",
    "    \"\"\"Visualize patch with stretch in RGB (B4,B3,B2).\"\"\"\n",
    "    green = patch[:, :, 1]\n",
    "    red = patch[:,:,2]\n",
    "    nir = patch[:,:,3]\n",
    "    swir = patch[:,:,4]\n",
    "    denom = green + 0.25 * swir\n",
    "    amei  = (2*red + nir - 2*swir) / (denom + eps)\n",
    "\n",
    "    p2, p98 = np.nanpercentile(amei, (2, 98))\n",
    "    amei = np.clip((amei - p2) / (p98 - p2), 0, 1)\n",
    "    cmap = plt.cm.turbo\n",
    "\n",
    "    if ax is None:\n",
    "        ax = plt.gca()\n",
    "    ax.imshow(amei, cmap=cmap)\n",
    "    ax.axis(\"off\")\n",
    "    return ax"
   ]
  },
  {
   "cell_type": "markdown",
   "id": "e904a0fe",
   "metadata": {},
   "source": [
    "## Labeling"
   ]
  },
  {
   "cell_type": "markdown",
   "id": "35aa1170",
   "metadata": {},
   "source": [
    "Pt.1"
   ]
  },
  {
   "cell_type": "code",
   "execution_count": null,
   "id": "e3065958",
   "metadata": {},
   "outputs": [],
   "source": [
    "# Manually label one-by-one the patches by visual inspection\n",
    "\n",
    "classes = {\n",
    "    \"-1\": \"outlier\",\n",
    "    \"0\": \"clean_water\",\n",
    "    \"1\": \"mucilage\",\n",
    "    \"2\": \"algae\",\n",
    "    \"3\": \"cloud\",\n",
    "    \"4\": \"sediment\"\n",
    "}\n",
    "\n",
    "labels_file = \"labels.csv\"\n",
    "\n",
    "# Load previous labels if they exist\n",
    "if os.path.exists(labels_file):\n",
    "    import pandas as pd\n",
    "    df = pd.read_csv(labels_file)\n",
    "    labeled_indices = set(df['index'].tolist())\n",
    "    labels = df.values.tolist()\n",
    "else:\n",
    "    labeled_indices = set()\n",
    "    labels = []\n",
    "\n",
    "# Start from first unlabeled patch\n",
    "i = 0\n",
    "while i < N:\n",
    "    if i in labeled_indices:\n",
    "        i += 1\n",
    "        continue  # skip already labeled\n",
    "\n",
    "    show_rgb(patches[i])\n",
    "    plt.title(f\"Patch {i}/{N}\")\n",
    "    plt.show(block=False)\n",
    "\n",
    "    print(\"Enter label: -1=outlier, 0=clean_water, 1=mucilage, 2=sediment, 3=cloud\")\n",
    "    print(\"s=skip, q=quit\")\n",
    "    lbl = input(f\"Label for patch {i}: \")\n",
    "\n",
    "    plt.close()\n",
    "\n",
    "    if lbl == \"q\":\n",
    "        print(\"Quitting, progress saved.\")\n",
    "        break\n",
    "    elif lbl == \"s\":\n",
    "        i += 1\n",
    "        continue\n",
    "    elif lbl not in classes:\n",
    "        print(\"Invalid label, skipping...\")\n",
    "        i += 1\n",
    "        continue\n",
    "\n",
    "    labels.append([i, classes[lbl]])\n",
    "    labeled_indices.add(i)\n",
    "\n",
    "    # Save progress after each label\n",
    "    with open(labels_file, \"w\", newline=\"\") as f:\n",
    "        writer = csv.writer(f)\n",
    "        writer.writerow([\"index\", \"label\"])\n",
    "        writer.writerows(labels)\n",
    "\n",
    "    i += 1\n",
    "\n",
    "print(\"✅ Labeling session ended. Progress saved in labels.csv\")"
   ]
  },
  {
   "cell_type": "code",
   "execution_count": 7,
   "id": "b89e6aa8",
   "metadata": {},
   "outputs": [
    {
     "name": "stdout",
     "output_type": "stream",
     "text": [
      "Mucilage patches: 164\n",
      "Clean water patches: 729\n"
     ]
    }
   ],
   "source": [
    "# Count valid\n",
    "\n",
    "labels = pd.read_csv('/home/ubuntu/mucilage_pipeline/mucilage-detection/src/labels_tqr.csv')\n",
    "print(f\"Mucilage patches: {np.sum(np.array(labels) == 'mucilage')}\")\n",
    "print(f\"Clean water patches: {np.sum(np.array(labels) == 'clean_water')}\")\n",
    "\n",
    "# Remove outliers and clouds\n",
    "\n",
    "labels_cleaned = labels[~labels['label'].isin(['outlier','algae', 'cloud', 'sediment'])]\n",
    "labels_cleaned.to_csv(\"/home/ubuntu/mucilage_pipeline/mucilage-detection/src/labels_corrected_tqr.csv\", index=False)"
   ]
  },
  {
   "cell_type": "markdown",
   "id": "81c75cf7",
   "metadata": {},
   "source": [
    "Pt.2"
   ]
  },
  {
   "cell_type": "code",
   "execution_count": null,
   "id": "7c7d9703",
   "metadata": {},
   "outputs": [],
   "source": [
    "# Reinspect labels for the interested classes\n",
    "\n",
    "# Dictionary of allowed classes\n",
    "classes = {\n",
    "    \"0\": \"clean_water\",\n",
    "    \"1\": \"mucilage\",\n",
    "    \"2\": \"algae\"\n",
    "}\n",
    "\n",
    "# Make labels editable\n",
    "labels_corrected = pd.read_csv('/home/ubuntu/mucilage_pipeline/mucilage-detection/src/labels_corrected.csv')\n",
    "labels_corrected = labels_corrected.copy()\n",
    "\n",
    "for idx, row in labels_corrected.iterrows():\n",
    "    if idx > 870:\n",
    "        patch_id = int(row[\"index\"])\n",
    "        current_label = row[\"label\"]\n",
    "\n",
    "        plt.figure(figsize=(3,3))\n",
    "        show_rgb(patches[patch_id])\n",
    "        plt.title(f\"Patch {patch_id} | Current: {current_label}\")\n",
    "        plt.show(block=False)\n",
    "\n",
    "        print(\"Enter new label [0=clean_water, 1=mucilage, s=skip, q=quit]\")\n",
    "        lbl = input(\"New label: \")\n",
    "\n",
    "        plt.close()\n",
    "\n",
    "        if lbl == \"q\":\n",
    "            print(\"Stopping review, progress saved.\")\n",
    "            break\n",
    "        elif lbl == \"s\" or lbl.strip() == \"\":\n",
    "            continue\n",
    "        elif lbl in classes:\n",
    "            labels_corrected.at[idx, \"label\"] = classes[lbl]\n",
    "        else:\n",
    "            print(\"Invalid input, keeping old label.\")\n",
    "\n",
    "# Save corrected labels\n",
    "labels_corrected.to_csv(\"labels_corrected.csv\", index=False)\n",
    "print(\"✅ Saved to labels_corrected.csv\")"
   ]
  },
  {
   "cell_type": "code",
   "execution_count": null,
   "id": "91ff2e3b",
   "metadata": {},
   "outputs": [],
   "source": [
    "labels_corrected = pd.read_csv('/home/ubuntu/mucilage_pipeline/mucilage-detection/src/labels_corrected.csv')\n",
    "print(len(labels_corrected))\n",
    "print(f\"Mucilage patches: {np.sum(np.array(labels_corrected) == 'mucilage')}\")\n",
    "print(f\"Clean water patches: {np.sum(np.array(labels_corrected) == 'clean_water')}\")\n",
    "print(f\"Algae patches: {np.sum(np.array(labels_corrected) == 'algae')}\")"
   ]
  },
  {
   "cell_type": "markdown",
   "id": "6caad6fe",
   "metadata": {},
   "source": [
    "# Check AMEI in mucilage patches"
   ]
  },
  {
   "cell_type": "code",
   "execution_count": null,
   "metadata": {},
   "outputs": [],
   "source": [
    "labels_corrected = pd.read_csv(\"/home/ubuntu/mucilage_pipeline/mucilage-detection/src/labels_corrected.csv\")\n",
    "mucilage = labels_corrected[labels_corrected['label'] == 'mucilage']\n",
    "\n",
    "# Grid parameters\n",
    "ncols = 10\n",
    "nrows = int(np.ceil(len(mucilage) / ncols))\n",
    "\n",
    "fig, axes = plt.subplots(nrows, ncols, figsize=(ncols*2, nrows*2))\n",
    "\n",
    "for ax, (row_idx, row) in zip(axes.ravel(), mucilage.iterrows()):\n",
    "    patch_id = int(row[\"index\"])\n",
    "    current_label = row[\"label\"]\n",
    "    show_amei(patches[patch_id], ax=ax)\n",
    "    ax.set_title(f\"id:{patch_id} - ax:{row_idx}\", fontsize=8)\n",
    "\n",
    "# Hide empty subplots if any\n",
    "for ax in axes.ravel()[len(mucilage):]:\n",
    "    ax.axis(\"off\")\n",
    "\n",
    "plt.tight_layout()\n",
    "plt.show()"
   ]
  },
  {
   "cell_type": "code",
   "execution_count": null,
   "id": "73fb7e1f",
   "metadata": {},
   "outputs": [],
   "source": [
    "# Investigate RGB vs AMEI of single mucilage patches\n",
    "\n",
    "def show_rgb(patch, eps=1e-6, ax=None):\n",
    "    \"\"\"\n",
    "    Visualize patch as stretched RGB (B4,B3,B2).\n",
    "    Assumes patch order: [B1, B2, B3, B4, ...]\n",
    "    so B2=green, B3=red, B4=NIR, etc.\n",
    "    \"\"\"\n",
    "    # Extract bands\n",
    "    red   = patch[:, :, 2]  # B4\n",
    "    green = patch[:, :, 1]  # B3\n",
    "    blue  = patch[:, :, 0]  # B2\n",
    "\n",
    "    # Stack to RGB\n",
    "    rgb = np.dstack([red, green, blue])\n",
    "\n",
    "    # Contrast stretch (percentile clipping)\n",
    "    p2, p98 = np.nanpercentile(rgb, (2, 98))\n",
    "    rgb = np.clip((rgb - p2) / (p98 - p2 + eps), 0, 1)\n",
    "\n",
    "    if ax is None:\n",
    "        ax = plt.gca()\n",
    "    ax.imshow(rgb)\n",
    "    ax.axis(\"off\")\n",
    "    return ax\n",
    "\n",
    "fig, axs = plt.subplots(1, 2, figsize=(6, 6))\n",
    "row = mucilage.loc[816]\n",
    "patch_id = int(row[\"index\"])\n",
    "show_rgb(patches[patch_id], ax=axs[0])\n",
    "show_amei(patches[patch_id], ax=axs[1])"
   ]
  },
  {
   "cell_type": "markdown",
   "id": "350d6cda",
   "metadata": {},
   "source": [
    "# Apply SAM on mucilaage patches"
   ]
  },
  {
   "cell_type": "code",
   "execution_count": null,
   "id": "e52541d3",
   "metadata": {},
   "outputs": [],
   "source": [
    "import torch\n",
    "from segment_anything import sam_model_registry, SamAutomaticMaskGenerator\n",
    "import cv2\n",
    "\n",
    "# Use CPU automatically\n",
    "DEVICE = \"cuda\" if torch.cuda.is_available() else \"cpu\"\n",
    "print(f\"Using device: {DEVICE}\")\n",
    "\n",
    "# Load smaller model checkpoint (ViT-B for CPU)\n",
    "sam = sam_model_registry[\"vit_b\"](checkpoint=\"/home/ubuntu/mucilage_pipeline/sam_vit_b_01ec64.pth\")\n",
    "sam.to(device=DEVICE)"
   ]
  },
  {
   "cell_type": "code",
   "execution_count": null,
   "id": "a28a5fe7",
   "metadata": {},
   "outputs": [],
   "source": [
    "labels_corrected = pd.read_csv(\"labels_corrected.csv\")\n",
    "mucilage = labels_corrected[labels_corrected['label'] == 'mucilage']\n",
    "\n",
    "# Load patch\n",
    "row = mucilage.loc[16]\n",
    "patch_id = int(row[\"index\"])\n",
    "patch = patches[patch_id]\n",
    "\n",
    "red   = patch[:, :, 2]  # B4\n",
    "green = patch[:, :, 1]  # B3\n",
    "blue  = patch[:, :, 0]  # B2\n",
    "rgb = np.dstack([red, green, blue])\n",
    "\n",
    "p2, p98 = np.nanpercentile(rgb, (2, 98))\n",
    "rgb = np.clip((rgb - p2) / (p98 - p2 + 1e-6), 0, 1)\n",
    "\n",
    "image = (rgb * 255).astype(np.uint8)\n",
    "\n",
    "# Generate masks automatically\n",
    "mask_generator = SamAutomaticMaskGenerator(sam)\n",
    "masks = mask_generator.generate(rgb)\n",
    "\n",
    "print(f\"Generated {len(masks)} masks\")"
   ]
  },
  {
   "cell_type": "code",
   "execution_count": null,
   "id": "f278e75c",
   "metadata": {},
   "outputs": [],
   "source": [
    "import random\n",
    "overlay = image.copy()\n",
    "\n",
    "for mask_dict in masks:\n",
    "    mask = mask_dict['segmentation']  # boolean mask\n",
    "    # Generate random color for each mask\n",
    "    color = np.array([random.randint(0, 255) for _ in range(3)], dtype=np.uint8)\n",
    "    overlay[mask] = 0.1 * overlay[mask] + 0.9 * color  # blend mask with image\n",
    "\n",
    "overlay = overlay.astype(np.uint8)\n",
    "\n",
    "# Plot side by side\n",
    "fig, axes = plt.subplots(1, 2, figsize=(6, 6))\n",
    "axes[0].imshow(image)\n",
    "axes[0].set_title(\"Original RGB Image\")\n",
    "axes[0].axis(\"off\")\n",
    "\n",
    "axes[1].imshow(overlay)\n",
    "axes[1].set_title(\"RGB Image with SAM Masks\")\n",
    "axes[1].axis(\"off\")\n",
    "\n",
    "plt.show()"
   ]
  },
  {
   "cell_type": "markdown",
   "id": "333664db",
   "metadata": {},
   "source": [
    "# Check AMEI on algae"
   ]
  },
  {
   "cell_type": "code",
   "execution_count": null,
   "id": "71cc0ac9",
   "metadata": {},
   "outputs": [],
   "source": [
    "labels_corrected = pd.read_csv(\"/home/ubuntu/mucilage_pipeline/mucilage-detection/src/labels_corrected.csv\")\n",
    "algae = labels_corrected[labels_corrected['label'] == 'algae']\n",
    "\n",
    "# Grid parameters\n",
    "ncols = 10\n",
    "nrows = int(np.ceil(len(algae) / ncols))\n",
    "\n",
    "fig, axes = plt.subplots(nrows, ncols, figsize=(ncols*2, nrows*2))\n",
    "\n",
    "for ax, (row_idx, row) in zip(axes.ravel(), algae.iterrows()):\n",
    "    patch_id = int(row[\"index\"])\n",
    "    current_label = row[\"label\"]\n",
    "    show_amei(patches[patch_id], ax=ax)\n",
    "    ax.set_title(f\"id:{patch_id} - ax:{row_idx}\", fontsize=8)\n",
    "\n",
    "# Hide empty subplots if any\n",
    "for ax in axes.ravel()[len(algae):]:\n",
    "    ax.axis(\"off\")\n",
    "\n",
    "plt.tight_layout()\n",
    "plt.show()"
   ]
  },
  {
   "cell_type": "code",
   "execution_count": null,
   "id": "d50ac8d5",
   "metadata": {},
   "outputs": [],
   "source": [
    "# Investigate RGB vs AMEI of single mucilage patches\n",
    "\n",
    "def show_rgb(patch, eps=1e-6, ax=None):\n",
    "    \"\"\"\n",
    "    Visualize patch as stretched RGB (B4,B3,B2).\n",
    "    Assumes patch order: [B1, B2, B3, B4, ...]\n",
    "    so B2=green, B3=red, B4=NIR, etc.\n",
    "    \"\"\"\n",
    "    # Extract bands\n",
    "    red   = patch[:, :, 2]  # B4\n",
    "    green = patch[:, :, 1]  # B3\n",
    "    blue  = patch[:, :, 0]  # B2\n",
    "\n",
    "    # Stack to RGB\n",
    "    rgb = np.dstack([red, green, blue])\n",
    "\n",
    "    # Contrast stretch (percentile clipping)\n",
    "    p2, p98 = np.nanpercentile(rgb, (2, 98))\n",
    "    rgb = np.clip((rgb - p2) / (p98 - p2 + eps), 0, 1)\n",
    "\n",
    "    if ax is None:\n",
    "        ax = plt.gca()\n",
    "    ax.imshow(rgb)\n",
    "    ax.axis(\"off\")\n",
    "    return ax\n",
    "\n",
    "fig, axs = plt.subplots(1, 2, figsize=(6, 6))\n",
    "row = algae.loc[427]\n",
    "patch_id = int(row[\"index\"])\n",
    "show_rgb(patches[patch_id], ax=axs[0])\n",
    "show_amei(patches[patch_id], ax=axs[1])"
   ]
  },
  {
   "cell_type": "code",
   "execution_count": null,
   "id": "cbef7bfc",
   "metadata": {},
   "outputs": [],
   "source": []
  }
 ],
 "metadata": {
  "kernelspec": {
   "display_name": "eopf",
   "language": "python",
   "name": "python3"
  },
  "language_info": {
   "codemirror_mode": {
    "name": "ipython",
    "version": 3
   },
   "file_extension": ".py",
   "mimetype": "text/x-python",
   "name": "python",
   "nbconvert_exporter": "python",
   "pygments_lexer": "ipython3",
   "version": "3.11.7"
  }
 },
 "nbformat": 4,
 "nbformat_minor": 5
}
