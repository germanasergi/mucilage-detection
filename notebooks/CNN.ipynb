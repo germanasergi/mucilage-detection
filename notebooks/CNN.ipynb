{
 "cells": [
  {
   "cell_type": "code",
   "execution_count": 37,
   "id": "0c35ccf1",
   "metadata": {},
   "outputs": [],
   "source": [
    "import torch\n",
    "import torch.nn as nn\n",
    "import torch.optim as optim\n",
    "from torch.utils.data import Dataset, DataLoader\n",
    "from torchvision import transforms\n",
    "import numpy as np\n",
    "import pandas as pd\n",
    "import random\n",
    "import albumentations as A\n",
    "import matplotlib.pyplot as plt\n",
    "from sklearn.model_selection import train_test_split\n",
    "from tqdm import tqdm\n",
    "from torchmetrics.classification import Accuracy, Precision, Recall, F1Score"
   ]
  },
  {
   "cell_type": "code",
   "execution_count": 38,
   "id": "48f8860c",
   "metadata": {},
   "outputs": [],
   "source": [
    "def set_seed(seed):\n",
    "    torch.manual_seed(seed)\n",
    "    np.random.seed(seed)\n",
    "    random.seed(seed)\n",
    "\n",
    "set_seed(42)"
   ]
  },
  {
   "cell_type": "code",
   "execution_count": 42,
   "id": "2d74cdc0",
   "metadata": {},
   "outputs": [],
   "source": [
    "class PatchDataset(Dataset):\n",
    "    def __init__(self, X, y, augment=False, minority_class=1):\n",
    "        self.X = X\n",
    "        self.y = y\n",
    "        self.augment = augment\n",
    "        self.minority_class = minority_class\n",
    "        # Define transforms\n",
    "        self.common_transform = transforms.Compose([\n",
    "            transforms.ToTensor()\n",
    "        ])\n",
    "\n",
    "        self.minority_transform = minority_transform = A.Compose([\n",
    "            A.HorizontalFlip(p=0.5),\n",
    "            A.VerticalFlip(p=0.5),\n",
    "            A.RandomRotate90(p=1.0),\n",
    "            A.RandomBrightnessContrast(brightness_limit=0.1, contrast_limit=0.1, p=0.5)\n",
    "        ])\n",
    "\n",
    "    def __len__(self):\n",
    "        return len(self.X)\n",
    "\n",
    "    def __getitem__(self, idx):\n",
    "        x = self.X[idx]  # (256,256,8)\n",
    "        y = self.y[idx]\n",
    "\n",
    "        if self.augment:\n",
    "            if y == self.minority_class:\n",
    "                x = self.minority_transform(image=x)[\"image\"]\n",
    "\n",
    "        # Convert to tensor and move channels first (C,H,W)\n",
    "        x = torch.from_numpy(x).permute(2, 0, 1)  # (8,256,256)\n",
    "\n",
    "        return x.float(), torch.tensor(y, dtype=torch.long)"
   ]
  },
  {
   "cell_type": "code",
   "execution_count": 21,
   "id": "0b4b07b6",
   "metadata": {},
   "outputs": [],
   "source": [
    "class CNN(nn.Module):\n",
    "    def __init__(self, num_classes=2, in_channels=8):\n",
    "        super(CNN, self).__init__()\n",
    "        self.features = nn.Sequential(\n",
    "            nn.Conv2d(in_channels, 32, kernel_size=3, padding=1),\n",
    "            nn.BatchNorm2d(32),\n",
    "            nn.ReLU(),\n",
    "            nn.MaxPool2d(2),\n",
    "\n",
    "            nn.Conv2d(32, 64, kernel_size=3, padding=1),\n",
    "            nn.BatchNorm2d(64),\n",
    "            nn.ReLU(),\n",
    "            nn.MaxPool2d(2),\n",
    "\n",
    "            nn.Conv2d(64, 128, kernel_size=3, padding=1),\n",
    "            nn.BatchNorm2d(128),\n",
    "            nn.ReLU(),\n",
    "            nn.MaxPool2d(2),\n",
    "        )\n",
    "        self.classifier = nn.Sequential(\n",
    "            nn.AdaptiveAvgPool2d(1),  # global pooling\n",
    "            nn.Flatten(),\n",
    "            nn.Linear(128, num_classes)\n",
    "        )\n",
    "\n",
    "    def forward(self, x):\n",
    "        x = self.features(x)\n",
    "        x = self.classifier(x)\n",
    "        return x"
   ]
  },
  {
   "cell_type": "code",
   "execution_count": 22,
   "id": "3e2cb7a2",
   "metadata": {},
   "outputs": [
    {
     "name": "stdout",
     "output_type": "stream",
     "text": [
      "X shape: (809, 256, 256, 8)\n",
      "y shape: (809,)\n"
     ]
    }
   ],
   "source": [
    "# Load patches\n",
    "patches = np.load(\"/home/ubuntu/mucilage_pipeline/patches.npy\")  # shape (1643, 256, 256, 8)\n",
    "\n",
    "# Load labels CSV\n",
    "labels_df = pd.read_csv(\"/home/ubuntu/mucilage_pipeline/mucilage-detection/src/labels_corrected.csv\")\n",
    "labels_df = labels_df[~labels_df['label'].isin(['algae'])]\n",
    "\n",
    "# Map string labels to integers\n",
    "label_mapping = {\n",
    "    \"clean_water\": 0,\n",
    "    \"mucilage\": 1\n",
    "}\n",
    "labels_df[\"label_id\"] = labels_df[\"label\"].map(label_mapping)\n",
    "\n",
    "# Subset patches based on indices in CSV\n",
    "selected_indices = labels_df[\"index\"].values\n",
    "X = patches[selected_indices]   # shape (N, 256,256,8)\n",
    "y = labels_df[\"label_id\"].values  # shape (N,)\n",
    "\n",
    "print(\"X shape:\", X.shape)\n",
    "print(\"y shape:\", y.shape)"
   ]
  },
  {
   "cell_type": "code",
   "execution_count": 23,
   "id": "5db86f15",
   "metadata": {},
   "outputs": [],
   "source": [
    "# Replace NaNs and Infs with 0\n",
    "X = np.nan_to_num(X, nan=0.0, posinf=0.0, neginf=0.0)\n",
    "\n",
    "# Add normalization\n",
    "# mean = X.mean(axis=(0,1,2))   # mean per band\n",
    "# std  = X.std(axis=(0,1,2))    # std per band\n",
    "# X = (X - mean) / std"
   ]
  },
  {
   "cell_type": "code",
   "execution_count": 24,
   "id": "e2d3b60b",
   "metadata": {},
   "outputs": [],
   "source": [
    "X_train, X_val, y_train, y_val = train_test_split(\n",
    "    X, y, \n",
    "    test_size=0.3, \n",
    "    stratify=y, \n",
    "    random_state=42\n",
    ")"
   ]
  },
  {
   "cell_type": "code",
   "execution_count": 15,
   "id": "efb4baf7",
   "metadata": {},
   "outputs": [
    {
     "name": "stdout",
     "output_type": "stream",
     "text": [
      "(array([0, 1]), array([488,  78]))\n",
      "(array([0, 1]), array([209,  34]))\n"
     ]
    }
   ],
   "source": [
    "# Count samples for each class\n",
    "print(np.unique(y_train, return_counts=True))\n",
    "print(np.unique(y_val, return_counts=True))"
   ]
  },
  {
   "cell_type": "code",
   "execution_count": 43,
   "id": "c78cdb2d",
   "metadata": {},
   "outputs": [],
   "source": [
    "train_dataset = PatchDataset(X_train, y_train, augment=True)\n",
    "val_dataset   = PatchDataset(X_val, y_val, augment=False)\n",
    "\n",
    "train_loader = DataLoader(train_dataset, batch_size=16, shuffle=True)\n",
    "val_loader   = DataLoader(val_dataset, batch_size=16, shuffle=False)"
   ]
  },
  {
   "cell_type": "code",
   "execution_count": 44,
   "id": "4fc0e4c9",
   "metadata": {},
   "outputs": [
    {
     "name": "stdout",
     "output_type": "stream",
     "text": [
      "Epoch [1/10]\n"
     ]
    },
    {
     "name": "stderr",
     "output_type": "stream",
     "text": [
      "  0%|          | 0/36 [00:00<?, ?it/s]"
     ]
    },
    {
     "name": "stderr",
     "output_type": "stream",
     "text": [
      "100%|██████████| 36/36 [01:02<00:00,  1.75s/it]\n"
     ]
    },
    {
     "name": "stdout",
     "output_type": "stream",
     "text": [
      "Train Loss: 0.3735, Accuracy: 0.8710\n",
      "Validation Loss: 0.4292, Accuracy: 0.8601\n",
      "Epoch [2/10]\n"
     ]
    },
    {
     "name": "stderr",
     "output_type": "stream",
     "text": [
      "100%|██████████| 36/36 [01:03<00:00,  1.75s/it]\n"
     ]
    },
    {
     "name": "stdout",
     "output_type": "stream",
     "text": [
      "Train Loss: 0.3263, Accuracy: 0.8993\n",
      "Validation Loss: 0.4150, Accuracy: 0.8601\n",
      "Epoch [3/10]\n"
     ]
    },
    {
     "name": "stderr",
     "output_type": "stream",
     "text": [
      "100%|██████████| 36/36 [01:04<00:00,  1.79s/it]\n"
     ]
    },
    {
     "name": "stdout",
     "output_type": "stream",
     "text": [
      "Train Loss: 0.3255, Accuracy: 0.8922\n",
      "Validation Loss: 0.4115, Accuracy: 0.8601\n",
      "Epoch [4/10]\n"
     ]
    },
    {
     "name": "stderr",
     "output_type": "stream",
     "text": [
      "100%|██████████| 36/36 [01:01<00:00,  1.71s/it]\n"
     ]
    },
    {
     "name": "stdout",
     "output_type": "stream",
     "text": [
      "Train Loss: 0.3340, Accuracy: 0.8905\n",
      "Validation Loss: 0.4187, Accuracy: 0.8601\n",
      "Epoch [5/10]\n"
     ]
    },
    {
     "name": "stderr",
     "output_type": "stream",
     "text": [
      "100%|██████████| 36/36 [01:01<00:00,  1.71s/it]\n"
     ]
    },
    {
     "name": "stdout",
     "output_type": "stream",
     "text": [
      "Train Loss: 0.3229, Accuracy: 0.8852\n",
      "Validation Loss: 0.4245, Accuracy: 0.8601\n",
      "Epoch [6/10]\n"
     ]
    },
    {
     "name": "stderr",
     "output_type": "stream",
     "text": [
      "100%|██████████| 36/36 [01:03<00:00,  1.77s/it]\n"
     ]
    },
    {
     "name": "stdout",
     "output_type": "stream",
     "text": [
      "Train Loss: 0.3223, Accuracy: 0.8781\n",
      "Validation Loss: 0.4345, Accuracy: 0.8601\n",
      "Epoch [7/10]\n"
     ]
    },
    {
     "name": "stderr",
     "output_type": "stream",
     "text": [
      "100%|██████████| 36/36 [01:08<00:00,  1.90s/it]\n"
     ]
    },
    {
     "name": "stdout",
     "output_type": "stream",
     "text": [
      "Train Loss: 0.2956, Accuracy: 0.8958\n",
      "Validation Loss: 0.4692, Accuracy: 0.8601\n",
      "Epoch [8/10]\n"
     ]
    },
    {
     "name": "stderr",
     "output_type": "stream",
     "text": [
      "100%|██████████| 36/36 [01:05<00:00,  1.81s/it]\n"
     ]
    },
    {
     "name": "stdout",
     "output_type": "stream",
     "text": [
      "Train Loss: 0.3179, Accuracy: 0.8887\n",
      "Validation Loss: 0.4218, Accuracy: 0.8601\n",
      "Epoch [9/10]\n"
     ]
    },
    {
     "name": "stderr",
     "output_type": "stream",
     "text": [
      "100%|██████████| 36/36 [01:03<00:00,  1.77s/it]\n"
     ]
    },
    {
     "name": "stdout",
     "output_type": "stream",
     "text": [
      "Train Loss: 0.3082, Accuracy: 0.8869\n",
      "Validation Loss: 0.4625, Accuracy: 0.8601\n",
      "Epoch [10/10]\n"
     ]
    },
    {
     "name": "stderr",
     "output_type": "stream",
     "text": [
      "100%|██████████| 36/36 [01:03<00:00,  1.78s/it]\n"
     ]
    },
    {
     "name": "stdout",
     "output_type": "stream",
     "text": [
      "Train Loss: 0.3044, Accuracy: 0.8922\n",
      "Validation Loss: 0.6832, Accuracy: 0.8601\n"
     ]
    }
   ],
   "source": [
    "device = torch.device(\"cuda\" if torch.cuda.is_available() else \"cpu\")\n",
    "\n",
    "num_classes = len(np.unique(y_train))\n",
    "model = CNN(num_classes=num_classes, in_channels=8).to(device)\n",
    "\n",
    "#weights = torch.tensor([1.0, 4.0])  # inverse of class frequency\n",
    "criterion = nn.CrossEntropyLoss() #weight=weights.to(device)\n",
    "optimizer = optim.Adam(model.parameters(), lr=0.001)\n",
    "\n",
    "\n",
    "\n",
    "num_epochs=10\n",
    "train_losses = []\n",
    "valid_losses = []\n",
    "\n",
    "for epoch in range(num_epochs):\n",
    "    print(f\"Epoch [{epoch + 1}/{num_epochs}]\")\n",
    "    \n",
    "    # Train\n",
    "    model.train()\n",
    "    running_loss_train = 0.0\n",
    "    correct_train = 0\n",
    "    total_train = 0\n",
    "    for batch_index, (data, targets) in enumerate(tqdm(train_loader)):\n",
    "        data, targets = data.to(device), targets.to(device)\n",
    "        scores = model(data)\n",
    "        loss = criterion(scores, targets)\n",
    "\n",
    "        optimizer.zero_grad()\n",
    "        loss.backward()\n",
    "        optimizer.step()\n",
    "        \n",
    "        # accumulate stats\n",
    "        batch_size = targets.size(0)\n",
    "        running_loss_train += loss.item() * batch_size\n",
    "\n",
    "        _, preds = torch.max(scores, 1)\n",
    "        correct_train += (preds == targets).sum().item()\n",
    "        total_train += batch_size\n",
    "\n",
    "    # Evaluate\n",
    "    model.eval()\n",
    "    running_val_loss = 0.0\n",
    "    correct_val = 0\n",
    "    total_val = 0\n",
    "\n",
    "    with torch.no_grad():\n",
    "        for data, targets in val_loader:\n",
    "                data, targets = data.to(device), targets.to(device)\n",
    "                batch_size = targets.size(0)\n",
    "\n",
    "                scores = model(data)\n",
    "                loss = criterion(scores, targets)\n",
    "\n",
    "                running_val_loss += loss.item() * batch_size\n",
    "                _, preds = torch.max(scores, 1)\n",
    "                correct_val += (preds == targets).sum().item()\n",
    "                total_val += batch_size\n",
    "\n",
    "    # Compute epoch-level metrics\n",
    "    train_epoch_loss = running_loss_train / total_train\n",
    "    train_losses.append(train_epoch_loss)\n",
    "    train_epoch_acc = correct_train / total_train\n",
    "    print(f\"Train Loss: {train_epoch_loss:.4f}, Accuracy: {train_epoch_acc:.4f}\")\n",
    "\n",
    "    val_epoch_loss = running_val_loss / total_val\n",
    "    valid_losses.append(val_epoch_loss)\n",
    "    val_epoch_acc = correct_val / total_val\n",
    "    print(f\"Validation Loss: {val_epoch_loss:.4f}, Accuracy: {val_epoch_acc:.4f}\")"
   ]
  },
  {
   "cell_type": "code",
   "execution_count": 45,
   "id": "2b800fca",
   "metadata": {},
   "outputs": [
    {
     "data": {
      "image/png": "[encoded data removed]",
      "text/plain": [
       "<Figure size 640x480 with 1 Axes>"
      ]
     },
     "metadata": {},
     "output_type": "display_data"
    }
   ],
   "source": [
    "epochs = range(1, num_epochs + 1)\n",
    "\n",
    "# Plot and label the training and validation loss values\n",
    "plt.plot(epochs, train_losses, label='Training Loss')\n",
    "plt.plot(epochs, valid_losses, label='Validation Loss')\n",
    "\n",
    "# Add in a title and axes labels\n",
    "plt.title('Training and Validation Loss')\n",
    "plt.xlabel('Epochs')\n",
    "plt.ylabel('Loss')\n",
    " \n",
    "# Set the tick locations\n",
    "plt.xticks(np.arange(0, len(epochs), 1))\n",
    " \n",
    "# Display the plot\n",
    "plt.legend(loc='best')\n",
    "plt.show()"
   ]
  },
  {
   "cell_type": "code",
   "execution_count": null,
   "id": "2f117755",
   "metadata": {},
   "outputs": [],
   "source": []
  }
 ],
 "metadata": {
  "kernelspec": {
   "display_name": "eopf",
   "language": "python",
   "name": "python3"
  },
  "language_info": {
   "codemirror_mode": {
    "name": "ipython",
    "version": 3
   },
   "file_extension": ".py",
   "mimetype": "text/x-python",
   "name": "python",
   "nbconvert_exporter": "python",
   "pygments_lexer": "ipython3",
   "version": "3.11.7"
  }
 },
 "nbformat": 4,
 "nbformat_minor": 5
}
