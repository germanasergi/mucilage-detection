{
 "cells": [
  {
   "cell_type": "code",
   "execution_count": 25,
   "id": "0c35ccf1",
   "metadata": {},
   "outputs": [],
   "source": [
    "import torch\n",
    "import torch.nn as nn\n",
    "import torch.optim as optim\n",
    "from torch.utils.data import Dataset, DataLoader\n",
    "import numpy as np\n",
    "import pandas as pd\n",
    "from sklearn.model_selection import train_test_split\n",
    "from tqdm import tqdm\n",
    "from torchmetrics.classification import Accuracy, Precision, Recall, F1Score"
   ]
  },
  {
   "cell_type": "code",
   "execution_count": null,
   "id": "22aa707d",
   "metadata": {},
   "outputs": [],
   "source": [
    "class PatchDataset(Dataset):\n",
    "    def __init__(self, X, y, augment=False):\n",
    "        self.X = X.astype(np.float32)\n",
    "        self.y = y.astype(np.int64)\n",
    "        self.augment = augment\n",
    "\n",
    "    def __len__(self):\n",
    "        return len(self.X)\n",
    "\n",
    "    def __getitem__(self, idx):\n",
    "        x = self.X[idx]  # (256,256,8)\n",
    "        y = self.y[idx]\n",
    "\n",
    "        # Convert to tensor and move channels first (C,H,W)\n",
    "        x = torch.from_numpy(x).permute(2, 0, 1)  # (8,256,256)\n",
    "\n",
    "        if self.augment:\n",
    "            # --- Flips ---\n",
    "            if torch.rand(1) > 0.5:\n",
    "                x = torch.flip(x, dims=[2])  # horizontal\n",
    "            if torch.rand(1) > 0.5:\n",
    "                x = torch.flip(x, dims=[1])  # vertical\n",
    "\n",
    "            # --- Rotations 90,180,270 ---\n",
    "            k = torch.randint(0,4,(1,)).item()\n",
    "            x = torch.rot90(x, k, dims=[1,2])\n",
    "\n",
    "            # --- Brightness / contrast jitter ---\n",
    "            factor = 0.9 + 0.2*torch.rand(1)  # 0.9 - 1.1\n",
    "            x = x * factor\n",
    "\n",
    "            # Clip to avoid negative reflectances\n",
    "            x = torch.clamp(x, 0.0, None)\n",
    "\n",
    "\n",
    "        return x, y"
   ]
  },
  {
   "cell_type": "code",
   "execution_count": null,
   "id": "0b4b07b6",
   "metadata": {},
   "outputs": [],
   "source": [
    "class CNN(nn.Module):\n",
    "    def __init__(self, num_classes=2, in_channels=8):\n",
    "        super(CNN, self).__init__()\n",
    "        self.features = nn.Sequential(\n",
    "            nn.Conv2d(in_channels, 32, kernel_size=3, padding=1),\n",
    "            nn.BatchNorm2d(32),\n",
    "            nn.ReLU(),\n",
    "            nn.MaxPool2d(2),\n",
    "\n",
    "            nn.Conv2d(32, 64, kernel_size=3, padding=1),\n",
    "            nn.BatchNorm2d(64),\n",
    "            nn.ReLU(),\n",
    "            nn.MaxPool2d(2),\n",
    "\n",
    "            nn.Conv2d(64, 128, kernel_size=3, padding=1),\n",
    "            nn.BatchNorm2d(128),\n",
    "            nn.ReLU(),\n",
    "            nn.MaxPool2d(2),\n",
    "        )\n",
    "        self.classifier = nn.Sequential(\n",
    "            nn.AdaptiveAvgPool2d(1),  # global pooling\n",
    "            nn.Flatten(),\n",
    "            nn.Linear(128, num_classes)\n",
    "        )\n",
    "\n",
    "    def forward(self, x):\n",
    "        x = self.features(x)\n",
    "        x = self.classifier(x)\n",
    "        return x"
   ]
  },
  {
   "cell_type": "code",
   "execution_count": 4,
   "id": "3e2cb7a2",
   "metadata": {},
   "outputs": [
    {
     "name": "stdout",
     "output_type": "stream",
     "text": [
      "X shape: (805, 256, 256, 8)\n",
      "y shape: (805,)\n"
     ]
    }
   ],
   "source": [
    "# Load patches\n",
    "patches = np.load(\"/home/ubuntu/mucilage_pipeline/patches.npy\")  # shape (1643, 256, 256, 8)\n",
    "\n",
    "# Load labels CSV\n",
    "labels_df = pd.read_csv(\"/home/ubuntu/mucilage_pipeline/mucilage-detection/src/labels_corrected.csv\")\n",
    "labels_df = labels_df[~labels_df['label'].isin(['algae'])]\n",
    "\n",
    "# Map string labels to integers\n",
    "label_mapping = {\n",
    "    \"clean_water\": 0,\n",
    "    \"mucilage\": 1\n",
    "}\n",
    "labels_df[\"label_id\"] = labels_df[\"label\"].map(label_mapping)\n",
    "\n",
    "# Subset patches based on indices in CSV\n",
    "selected_indices = labels_df[\"index\"].values\n",
    "X = patches[selected_indices]   # shape (N, 256,256,8)\n",
    "y = labels_df[\"label_id\"].values  # shape (N,)\n",
    "\n",
    "print(\"X shape:\", X.shape)\n",
    "print(\"y shape:\", y.shape)"
   ]
  },
  {
   "cell_type": "code",
   "execution_count": 5,
   "id": "5db86f15",
   "metadata": {},
   "outputs": [],
   "source": [
    "# Replace NaNs and Infs with 0\n",
    "X = np.nan_to_num(X, nan=0.0, posinf=0.0, neginf=0.0)\n",
    "X = X / 10000.0\n",
    "\n",
    "# Add normalization"
   ]
  },
  {
   "cell_type": "code",
   "execution_count": 6,
   "id": "5e660c32",
   "metadata": {},
   "outputs": [],
   "source": [
    "X_train, X_val, y_train, y_val = train_test_split(\n",
    "    X, y, \n",
    "    test_size=0.2, \n",
    "    stratify=y, \n",
    "    random_state=42\n",
    ")"
   ]
  },
  {
   "cell_type": "code",
   "execution_count": 7,
   "id": "c78cdb2d",
   "metadata": {},
   "outputs": [],
   "source": [
    "train_dataset = PatchDataset(X_train, y_train, augment=True)\n",
    "val_dataset   = PatchDataset(X_val, y_val, augment=False)\n",
    "\n",
    "train_loader = DataLoader(train_dataset, batch_size=16, shuffle=True)\n",
    "val_loader   = DataLoader(val_dataset, batch_size=16, shuffle=False)"
   ]
  },
  {
   "cell_type": "code",
   "execution_count": 17,
   "id": "4fc0e4c9",
   "metadata": {},
   "outputs": [
    {
     "name": "stdout",
     "output_type": "stream",
     "text": [
      "Epoch [1/10]\n"
     ]
    },
    {
     "name": "stderr",
     "output_type": "stream",
     "text": [
      "100%|██████████| 41/41 [01:35<00:00,  2.33s/it]\n"
     ]
    },
    {
     "name": "stdout",
     "output_type": "stream",
     "text": [
      "Train Loss: 0.4085, Accuracy: 0.8370\n",
      "Epoch [2/10]\n"
     ]
    },
    {
     "name": "stderr",
     "output_type": "stream",
     "text": [
      "100%|██████████| 41/41 [01:35<00:00,  2.32s/it]\n"
     ]
    },
    {
     "name": "stdout",
     "output_type": "stream",
     "text": [
      "Train Loss: 0.3628, Accuracy: 0.8618\n",
      "Epoch [3/10]\n"
     ]
    },
    {
     "name": "stderr",
     "output_type": "stream",
     "text": [
      "100%|██████████| 41/41 [01:35<00:00,  2.32s/it]\n"
     ]
    },
    {
     "name": "stdout",
     "output_type": "stream",
     "text": [
      "Train Loss: 0.3458, Accuracy: 0.8711\n",
      "Epoch [4/10]\n"
     ]
    },
    {
     "name": "stderr",
     "output_type": "stream",
     "text": [
      "100%|██████████| 41/41 [01:35<00:00,  2.33s/it]\n"
     ]
    },
    {
     "name": "stdout",
     "output_type": "stream",
     "text": [
      "Train Loss: 0.3615, Accuracy: 0.8680\n",
      "Epoch [5/10]\n"
     ]
    },
    {
     "name": "stderr",
     "output_type": "stream",
     "text": [
      "100%|██████████| 41/41 [01:42<00:00,  2.49s/it]\n"
     ]
    },
    {
     "name": "stdout",
     "output_type": "stream",
     "text": [
      "Train Loss: 0.3340, Accuracy: 0.8742\n",
      "Epoch [6/10]\n"
     ]
    },
    {
     "name": "stderr",
     "output_type": "stream",
     "text": [
      "100%|██████████| 41/41 [01:35<00:00,  2.33s/it]\n"
     ]
    },
    {
     "name": "stdout",
     "output_type": "stream",
     "text": [
      "Train Loss: 0.3562, Accuracy: 0.8634\n",
      "Epoch [7/10]\n"
     ]
    },
    {
     "name": "stderr",
     "output_type": "stream",
     "text": [
      "100%|██████████| 41/41 [01:33<00:00,  2.28s/it]\n"
     ]
    },
    {
     "name": "stdout",
     "output_type": "stream",
     "text": [
      "Train Loss: 0.3443, Accuracy: 0.8696\n",
      "Epoch [8/10]\n"
     ]
    },
    {
     "name": "stderr",
     "output_type": "stream",
     "text": [
      "100%|██████████| 41/41 [01:34<00:00,  2.31s/it]\n"
     ]
    },
    {
     "name": "stdout",
     "output_type": "stream",
     "text": [
      "Train Loss: 0.3467, Accuracy: 0.8727\n",
      "Epoch [9/10]\n"
     ]
    },
    {
     "name": "stderr",
     "output_type": "stream",
     "text": [
      "100%|██████████| 41/41 [01:36<00:00,  2.35s/it]\n"
     ]
    },
    {
     "name": "stdout",
     "output_type": "stream",
     "text": [
      "Train Loss: 0.3495, Accuracy: 0.8742\n",
      "Epoch [10/10]\n"
     ]
    },
    {
     "name": "stderr",
     "output_type": "stream",
     "text": [
      "100%|██████████| 41/41 [01:38<00:00,  2.39s/it]"
     ]
    },
    {
     "name": "stdout",
     "output_type": "stream",
     "text": [
      "Train Loss: 0.3447, Accuracy: 0.8742\n"
     ]
    },
    {
     "name": "stderr",
     "output_type": "stream",
     "text": [
      "\n"
     ]
    }
   ],
   "source": [
    "device = torch.device(\"cuda\" if torch.cuda.is_available() else \"cpu\")\n",
    "\n",
    "num_classes = len(np.unique(y_train))\n",
    "model = CNN(num_classes=num_classes, in_channels=8).to(device)\n",
    "\n",
    "#weights = torch.tensor([1.0, 4.0])  # inverse of class frequency\n",
    "criterion = nn.CrossEntropyLoss() #weight=weights.to(device)\n",
    "optimizer = optim.Adam(model.parameters(), lr=0.001)\n",
    "\n",
    "\n",
    "# Train\n",
    "\n",
    "num_epochs=10\n",
    "for epoch in range(num_epochs):\n",
    "    model.train()\n",
    "    running_loss = 0.0\n",
    "    correct = 0\n",
    "    total = 0\n",
    "    \n",
    "    print(f\"Epoch [{epoch + 1}/{num_epochs}]\")\n",
    "    \n",
    "    for batch_index, (data, targets) in enumerate(tqdm(train_loader)):\n",
    "        data, targets = data.to(device), targets.to(device)\n",
    "        scores = model(data)\n",
    "        loss = criterion(scores, targets)\n",
    "        \n",
    "        optimizer.zero_grad()\n",
    "        loss.backward()\n",
    "        optimizer.step()\n",
    "        \n",
    "        # accumulate stats\n",
    "        batch_size = targets.size(0)\n",
    "        running_loss += loss.item() * batch_size\n",
    "        \n",
    "        _, preds = torch.max(scores, 1)\n",
    "        correct += (preds == targets).sum().item()\n",
    "        total += batch_size\n",
    "    \n",
    "    # Compute epoch-level metrics\n",
    "    epoch_loss = running_loss / total\n",
    "    epoch_acc = correct / total\n",
    "    print(f\"Train Loss: {epoch_loss:.4f}, Accuracy: {epoch_acc:.4f}\")"
   ]
  },
  {
   "cell_type": "code",
   "execution_count": 34,
   "id": "af0917df",
   "metadata": {},
   "outputs": [
    {
     "name": "stdout",
     "output_type": "stream",
     "text": [
      "Epoch [1/10]\n",
      "Validation Loss: 0.0179, Accuracy: 0.8634, F1 Score: 0.4633\n",
      "Epoch [2/10]\n",
      "Validation Loss: 0.0171, Accuracy: 0.8634, F1 Score: 0.4633\n",
      "Epoch [3/10]\n",
      "Validation Loss: 0.0164, Accuracy: 0.8634, F1 Score: 0.4633\n",
      "Epoch [4/10]\n",
      "Validation Loss: 0.0158, Accuracy: 0.8634, F1 Score: 0.4633\n",
      "Epoch [5/10]\n",
      "Validation Loss: 0.0152, Accuracy: 0.8634, F1 Score: 0.4633\n",
      "Epoch [6/10]\n",
      "Validation Loss: 0.0146, Accuracy: 0.8634, F1 Score: 0.4633\n",
      "Epoch [7/10]\n",
      "Validation Loss: 0.0141, Accuracy: 0.8634, F1 Score: 0.4633\n",
      "Epoch [8/10]\n",
      "Validation Loss: 0.0136, Accuracy: 0.8634, F1 Score: 0.4633\n",
      "Epoch [9/10]\n",
      "Validation Loss: 0.0132, Accuracy: 0.8634, F1 Score: 0.4633\n",
      "Epoch [10/10]\n",
      "Validation Loss: 0.0128, Accuracy: 0.8634, F1 Score: 0.4633\n"
     ]
    }
   ],
   "source": [
    "acc = Accuracy(task=\"multiclass\",num_classes=num_classes)\n",
    "f1 = F1Score(task=\"multiclass\",num_classes=num_classes,average='macro')\n",
    "\n",
    "for epoch in range(num_epochs):    \n",
    "    model.eval()\n",
    "    running_val_loss = 0.0\n",
    "    acc.reset()\n",
    "    f1.reset()\n",
    "    print(f\"Epoch [{epoch + 1}/{num_epochs}]\")\n",
    "\n",
    "    with torch.no_grad():\n",
    "        for data, targets in val_loader:\n",
    "            data, targets = data.to(device), targets.to(device)\n",
    "            batch_size = targets.size(0)\n",
    "\n",
    "            scores = model(data)\n",
    "            loss = criterion(scores, targets)\n",
    "\n",
    "            running_val_loss += loss.item() * batch_size\n",
    "            acc.update(scores, targets)\n",
    "            f1.update(scores, targets)\n",
    "            total += batch_size\n",
    "\n",
    "    epoch_val_loss = running_val_loss / total\n",
    "    epoch_val_acc = acc.compute()\n",
    "    epoch_val_f1 = f1.compute()\n",
    "    print(f\"Validation Loss: {epoch_val_loss:.4f}, Accuracy: {epoch_val_acc:.4f}, F1 Score: {epoch_val_f1:.4f}\")"
   ]
  },
  {
   "cell_type": "code",
   "execution_count": null,
   "id": "56b8d708",
   "metadata": {},
   "outputs": [
    {
     "name": "stdout",
     "output_type": "stream",
     "text": [
      "Test accuracy: 0.8633540272712708\n",
      "Test F1 score: 0.4633333384990692\n"
     ]
    }
   ],
   "source": [
    "# Evaluate\n",
    "\n",
    "# Set up of multiclass accuracy metric\n",
    "acc = Accuracy(task=\"multiclass\",num_classes=num_classes)\n",
    "precision = Precision(task=\"multiclass\",num_classes=num_classes,average='macro')\n",
    "recall = Recall(task=\"multiclass\",num_classes=num_classes,average='macro')\n",
    "f1 = F1Score(task=\"multiclass\",num_classes=num_classes,average='macro')\n",
    "\n",
    "# Iterate over the dataset batches\n",
    "model.eval()\n",
    "with torch.no_grad():\n",
    "   for images, labels in val_loader:\n",
    "       # Get predicted probabilities for test data batch\n",
    "       outputs = model(images)\n",
    "       _, preds = torch.max(outputs, 1)\n",
    "       acc(preds, labels)\n",
    "       precision(preds, labels)\n",
    "       recall(preds, labels)\n",
    "       f1(preds, labels)\n",
    "\n",
    "#Compute total test accuracy\n",
    "test_accuracy = acc.compute()\n",
    "test_f1score = f1.compute()\n",
    "print(f\"Test accuracy: {test_accuracy}\")\n",
    "print(f\"Test F1 score: {test_f1score}\")"
   ]
  },
  {
   "cell_type": "code",
   "execution_count": null,
   "id": "a2dff66f",
   "metadata": {},
   "outputs": [],
   "source": []
  }
 ],
 "metadata": {
  "kernelspec": {
   "display_name": "eopf",
   "language": "python",
   "name": "python3"
  },
  "language_info": {
   "codemirror_mode": {
    "name": "ipython",
    "version": 3
   },
   "file_extension": ".py",
   "mimetype": "text/x-python",
   "name": "python",
   "nbconvert_exporter": "python",
   "pygments_lexer": "ipython3",
   "version": "3.11.7"
  }
 },
 "nbformat": 4,
 "nbformat_minor": 5
}
