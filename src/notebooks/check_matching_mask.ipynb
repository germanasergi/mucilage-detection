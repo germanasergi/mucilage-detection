{
 "cells": [
  {
   "cell_type": "code",
   "execution_count": 1,
   "id": "cc40d96e",
   "metadata": {},
   "outputs": [],
   "source": [
    "import matplotlib.pyplot as plt\n",
    "import numpy as np"
   ]
  },
  {
   "cell_type": "code",
   "execution_count": 6,
   "id": "7c935b0d",
   "metadata": {},
   "outputs": [
    {
     "name": "stdout",
     "output_type": "stream",
     "text": [
      "(955, 256, 256)\n"
     ]
    }
   ],
   "source": [
    "mask_data = np.load(\"/home/ubuntu/mucilage_pipeline/mucilage-detection/roboflow_dataset/saved_masks/train_masks.npz\")\n",
    "print(mask_data['masks'].shape)"
   ]
  },
  {
   "cell_type": "code",
   "execution_count": null,
   "id": "d2acc805",
   "metadata": {},
   "outputs": [],
   "source": [
    "# compare shapes train_positive and patches csv that have label 1\n",
    "train_positive = np.load(\"/home/ubuntu/mucilage_pipeline/mucilage-detection/saved_npy/train_positive.npz\")['X']\n",
    "print(train_positive.shape)\n",
    "\n",
    "# Load patches CSV\n",
    "import pandas as pd\n",
    "patches_df = pd.read_csv(\"/home/ubuntu/mucilage_pipeline/mucilage-detection/csv/patches_final_filtered_split.csv\")\n",
    "print(patches_df[patches_df['label'] == 1].shape)"
   ]
  },
  {
   "cell_type": "code",
   "execution_count": null,
   "id": "881db334",
   "metadata": {},
   "outputs": [],
   "source": [
    "# Load patches and masks\n",
    "patch_data = np.load(\"/home/ubuntu/mucilage_pipeline/mucilage-detection/saved_npy/test_cache.npz\")[\"X\"]  # (N, H, W, C)\n",
    "mask_data = np.load(\"/home/ubuntu/mucilage_pipeline/mucilage-detection/roboflow_dataset_all/saved_masks/test_masks.npz\")['masks']\n",
    "\n",
    "indices = np.random.choice(len(patch_data), size=20, replace=False)\n",
    "\n",
    "for i in indices:\n",
    "    patch = patch_data[i]  # (H, W, C)\n",
    "    mask = mask_data[i]    # (H, W)\n",
    "    print(f\"Patch shape: {patch.shape}, Mask shape: {mask.shape}, Unique mask values: {np.unique(mask)}\")\n",
    "    \n",
    "    # --- RGB Visualization ---\n",
    "    # Sentinel-2 typical RGB bands = B04 (red), B03 (green), B02 (blue)\n",
    "    rgb = patch[:, :, [3, 2, 1]]\n",
    "    \n",
    "    # Percentile stretch for visualization\n",
    "    p2, p98 = np.nanpercentile(rgb, (2, 98))\n",
    "    rgb = np.clip((rgb - p2) / (p98 - p2 + 1e-6), 0, 1)\n",
    "    rgb = (rgb * 255).astype(np.uint8)\n",
    "    \n",
    "    # --- Plot ---\n",
    "    plt.figure(figsize=(10, 4))\n",
    "    \n",
    "    plt.subplot(1, 2, 1)\n",
    "    plt.imshow(rgb)\n",
    "    plt.title(f\"Patch #{i}\")\n",
    "    plt.axis(\"off\")\n",
    "    \n",
    "    plt.subplot(1, 2, 2)\n",
    "    plt.imshow(mask, cmap=\"gray\")\n",
    "    plt.title(f\"Mask #{i}\")\n",
    "    plt.axis(\"off\")\n",
    "    \n",
    "    plt.show()"
   ]
  },
  {
   "cell_type": "code",
   "execution_count": null,
   "id": "dbeb23aa",
   "metadata": {},
   "outputs": [],
   "source": [
    "# Load patches and masks\n",
    "patch_data = np.load(\"/home/ubuntu/mucilage_pipeline/mucilage-detection/saved_npy/train_positive.npz\")[\"X\"]  # (N, H, W, C)\n",
    "mask_data = np.load(\"/home/ubuntu/mucilage_pipeline/mucilage-detection/saved_npy/train_positive_new.npz\")[\"X\"] \n",
    "#mask_data = np.load(\"/home/ubuntu/mucilage_pipeline/mucilage-detection/roboflow_dataset_all/saved_masks/train_masks.npz\")['masks']\n",
    "\n",
    "indices = np.random.choice(len(patch_data), size=20, replace=False)\n",
    "\n",
    "for i in indices:\n",
    "    patch = patch_data[i]  # (H, W, C)\n",
    "    mask = mask_data[i]    # (H, W)\n",
    "    print(f\"Patch shape: {patch.shape}, Mask shape: {mask.shape}\")\n",
    "    \n",
    "    # --- RGB Visualization ---\n",
    "    # Sentinel-2 typical RGB bands = B04 (red), B03 (green), B02 (blue)\n",
    "    rgb = patch[:, :, [3, 2, 1]]\n",
    "    rgb_2 = mask[:, :, [3, 2, 1]]\n",
    "    \n",
    "    # Percentile stretch for visualization\n",
    "    p2, p98 = np.nanpercentile(rgb, (2, 98))\n",
    "    rgb = np.clip((rgb - p2) / (p98 - p2 + 1e-6), 0, 1)\n",
    "    rgb = (rgb * 255).astype(np.uint8)\n",
    "\n",
    "    p2_2, p98_2 = np.nanpercentile(rgb_2, (2, 98))\n",
    "    rgb_2 = np.clip((rgb_2 - p2_2) / (p98_2 - p2_2 + 1e-6), 0, 1)\n",
    "    rgb_2 = (rgb_2 * 255).astype(np.uint8)\n",
    "    \n",
    "    # --- Plot ---\n",
    "    plt.figure(figsize=(10, 4))\n",
    "    \n",
    "    plt.subplot(1, 2, 1)\n",
    "    plt.imshow(rgb)\n",
    "    plt.title(f\"Patch #{i}\")\n",
    "    plt.axis(\"off\")\n",
    "    \n",
    "    plt.subplot(1,2,2)\n",
    "    plt.imshow(rgb_2)\n",
    "    plt.title(f\"Patch #{i}\")\n",
    "    plt.axis(\"off\")\n",
    "    \n",
    "    plt.show()"
   ]
  },
  {
   "cell_type": "code",
   "execution_count": null,
   "id": "517ec640",
   "metadata": {},
   "outputs": [],
   "source": []
  }
 ],
 "metadata": {
  "kernelspec": {
   "display_name": "eopf",
   "language": "python",
   "name": "python3"
  },
  "language_info": {
   "codemirror_mode": {
    "name": "ipython",
    "version": 3
   },
   "file_extension": ".py",
   "mimetype": "text/x-python",
   "name": "python",
   "nbconvert_exporter": "python",
   "pygments_lexer": "ipython3",
   "version": "3.11.7"
  }
 },
 "nbformat": 4,
 "nbformat_minor": 5
}
